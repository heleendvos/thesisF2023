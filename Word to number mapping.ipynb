{
 "cells": [
  {
   "cell_type": "code",
   "execution_count": 1,
   "metadata": {},
   "outputs": [],
   "source": [
    "#https://scikit-learn.org/stable/modules/preprocessing.html"
   ]
  },
  {
   "cell_type": "code",
   "execution_count": 2,
   "metadata": {},
   "outputs": [],
   "source": [
    "import pandas as pd\n",
    "from glob import glob\n",
    "from sklearn.feature_extraction.text import TfidfVectorizer\n",
    "from sklearn.preprocessing import LabelEncoder\n",
    "from sklearn.model_selection import train_test_split\n",
    "from sklearn.linear_model import LogisticRegression\n",
    "from sklearn.metrics import accuracy_score\n",
    "from scipy.sparse import hstack\n",
    "from sklearn.pipeline import make_pipeline\n",
    "from sklearn.compose import ColumnTransformer\n",
    "from sklearn.preprocessing import FunctionTransformer\n",
    "from sklearn.metrics import classification_report\n",
    "from sklearn.feature_extraction.text import CountVectorizer\n",
    "from sklearn.naive_bayes import MultinomialNB"
   ]
  },
  {
   "cell_type": "code",
   "execution_count": 3,
   "metadata": {},
   "outputs": [
    {
     "data": {
      "text/plain": [
       "['/home/marilu/training_dfs/extrovert_introvert.csv',\n",
       " '/home/marilu/training_dfs/political_leaning.csv',\n",
       " '/home/marilu/training_dfs/birth_year.csv',\n",
       " '/home/marilu/training_dfs/gender.csv',\n",
       " '/home/marilu/training_dfs/judging_perceiving.csv',\n",
       " '/home/marilu/training_dfs/sensing_intuitive.csv',\n",
       " '/home/marilu/training_dfs/nationality.csv',\n",
       " '/home/marilu/training_dfs/feeling_thinking.csv']"
      ]
     },
     "execution_count": 3,
     "metadata": {},
     "output_type": "execute_result"
    }
   ],
   "source": [
    "data_dirs = list(set(glob('/home/marilu/training_dfs/*.csv')) - \n",
    "                 set(glob('/home/marilu/training_dfs/*_ft.csv')) - \n",
    "                 set(glob('/home/marilu/training_dfs/*balanced.csv')))\n",
    "data_dirs"
   ]
  },
  {
   "cell_type": "code",
   "execution_count": 4,
   "metadata": {},
   "outputs": [],
   "source": [
    "data = pd.read_csv(data_dirs[1])"
   ]
  },
  {
   "cell_type": "code",
   "execution_count": 5,
   "metadata": {},
   "outputs": [],
   "source": [
    "X_train, X_test, y_train, y_test = train_test_split(data['post'], data['political_leaning'], test_size=0.3, random_state=42)"
   ]
  },
  {
   "cell_type": "code",
   "execution_count": 6,
   "metadata": {},
   "outputs": [
    {
     "name": "stderr",
     "output_type": "stream",
     "text": [
      "/home/guest/.local/lib/python3.6/site-packages/sklearn/linear_model/_logistic.py:764: ConvergenceWarning: lbfgs failed to converge (status=1):\n",
      "STOP: TOTAL NO. of ITERATIONS REACHED LIMIT.\n",
      "\n",
      "Increase the number of iterations (max_iter) or scale the data as shown in:\n",
      "    https://scikit-learn.org/stable/modules/preprocessing.html\n",
      "Please also refer to the documentation for alternative solver options:\n",
      "    https://scikit-learn.org/stable/modules/linear_model.html#logistic-regression\n",
      "  extra_warning_msg=_LOGISTIC_SOLVER_CONVERGENCE_MSG)\n"
     ]
    },
    {
     "data": {
      "text/plain": [
       "LogisticRegression(max_iter=6000)"
      ]
     },
     "execution_count": 6,
     "metadata": {},
     "output_type": "execute_result"
    }
   ],
   "source": [
    "cv = CountVectorizer()\n",
    "classifier = LogisticRegression(max_iter=6000)\n",
    "classifier.fit(cv.fit_transform(X_train), y_train)"
   ]
  },
  {
   "cell_type": "code",
   "execution_count": 7,
   "metadata": {},
   "outputs": [
    {
     "name": "stdout",
     "output_type": "stream",
     "text": [
      "              precision    recall  f1-score   support\n",
      "\n",
      "      center       0.70      0.68      0.69     14439\n",
      "        left       0.65      0.65      0.65      9559\n",
      "       right       0.67      0.69      0.68     10341\n",
      "\n",
      "    accuracy                           0.68     34339\n",
      "   macro avg       0.67      0.67      0.67     34339\n",
      "weighted avg       0.68      0.68      0.68     34339\n",
      "\n"
     ]
    }
   ],
   "source": [
    "print(classification_report(classifier.predict(cv.transform(X_test)), y_test))"
   ]
  },
  {
   "cell_type": "code",
   "execution_count": 8,
   "metadata": {},
   "outputs": [],
   "source": [
    "sample_text = \"hi this is a text to illustrate the obfuscation\""
   ]
  },
  {
   "cell_type": "code",
   "execution_count": 10,
   "metadata": {},
   "outputs": [],
   "source": [
    "def apply_leetspeak(text):\n",
    "    # this function seems correct!\n",
    "    leet_dict = {'a': '4', 'e': '3', 'l': '1', 'o': '0', 't': '7', 's': '5'}\n",
    "    return \"\".join(leet_dict.get(c, c) for c in text.lower())"
   ]
  },
  {
   "cell_type": "code",
   "execution_count": 11,
   "metadata": {},
   "outputs": [
    {
     "data": {
      "text/plain": [
       "'hi 7hi5 i5 4 73x7 70 i11u57r473 7h3 0bfu5c47i0n'"
      ]
     },
     "execution_count": 11,
     "metadata": {},
     "output_type": "execute_result"
    }
   ],
   "source": [
    "apply_leetspeak(sample_text)"
   ]
  },
  {
   "cell_type": "code",
   "execution_count": 12,
   "metadata": {},
   "outputs": [
    {
     "name": "stdout",
     "output_type": "stream",
     "text": [
      "              precision    recall  f1-score   support\n",
      "\n",
      "      center       0.19      0.48      0.27      5560\n",
      "        left       0.81      0.28      0.42     27671\n",
      "       right       0.04      0.35      0.07      1108\n",
      "\n",
      "    accuracy                           0.32     34339\n",
      "   macro avg       0.34      0.37      0.25     34339\n",
      "weighted avg       0.68      0.32      0.38     34339\n",
      "\n"
     ]
    }
   ],
   "source": [
    "print(\n",
    "    classification_report(\n",
    "        classifier.predict(\n",
    "            cv.transform(\n",
    "                \n",
    "                [apply_leetspeak(d_test) for d_test in X_test]\n",
    "            )\n",
    "        ),\n",
    "        y_test\n",
    "    )\n",
    ")"
   ]
  },
  {
   "cell_type": "code",
   "execution_count": 18,
   "metadata": {},
   "outputs": [],
   "source": [
    "num_samples = 2\n",
    "sample_indices = range(num_samples)"
   ]
  },
  {
   "cell_type": "code",
   "execution_count": 19,
   "metadata": {},
   "outputs": [
    {
     "name": "stdout",
     "output_type": "stream",
     "text": [
      "Original Text (0): You can \"buy\" the show and stream it through them. Including the [Lethal Weapon 6](url episode, which I assume is the one he's talking about. EDIT: Sorry, I forgot there were two Lethal Weapon episodes. The one with \"Lethal Weapon 5\" got pulled. [Season 6, Episode 9](url is not available for purchase. TBH when I was younger this sort of thing bugged me, but I also responded to it in the least constructive way. I thought it was fun to act more creepy when I noticed that sort of thing was happening, just to push that person's buttons. Now I just keep doing things like I normally would. I'm not going to lose sleep over some stranger's opinions of me. We have a slackbot form that we fill out every Tuesday, which is basically a waste. \"what are you working on?\" \"BUG-123\". \"What do you hope to accomplish this week?\" \"BUG-123 and BUG-456\". \"Any blockers?\" \"No\". Same thing every time except different ticket numbers (usually). On Fridays we do a zoom meeting where we go over every ticket for the sprint and talk about its status. That tends to be more productive. I usually tell them. I had it sort of bite me in one interview though. It was like 2016 and the interviewers didn't even know Glassdoor was a thing, somehow. I checked before the interview to see what to expect, then they ended up asking me the exact same questions. I was honest, like \"yeah, I've seen all these\", then talked about my interview prep process and assured them I wasn't just rote memorizing answers to their questions, but that practice-interviewing myself with the questions on Glassdoor was the most effective way to prepare for the assumption that they'd ask similar but different questions. I could tell they were torn between thinking I had cheated but knowing I wouldn't be so bluntly honest about it if I had. Like seriously guys, your last several hires have used this to study, then posted themselves after they were hired... how are y'all not aware of this? They ended up bringing me in for the next round of interviews (which was mostly behavioral stuff that you can't really post). I thought I did well on that round, but they ghosted me until the recruiter finally sent a rejection letter 3 months later. Lol, bullet dodged I guess. My school had uinforms which allowed boys and girls to wear shorts during warmer months, but also had rules that prevented girls' shorts from being too short and boys' shorts from being too long. Nobody wore them because the rules (and general design of the uniform) just made them look bad on everybody. Finally one particularly hot spring a bunch of the dudes in my class got together and decided to go ahead and wear the \"mailman shorts\" and it wouldn't be uncool if we were all doing it. An aircraft carrier with shark teeth?! Hell yes! I wasn’t a huge fan of that feature in XCOM, but I think it plays a lot better in Midnight Suns for sure. Feels real natural with the rest of the game. Granted, this guy broke that one too. Outcome probably depends how bureaucratic and vindictive your company is. Start the meeting by complimenting the security team on doing such a good job of identifying potential malicious issues so quickly. It's likely they're just working their way down a checklist of how to respond, and that checklist was written for people who did this accidentally and will naively say things like \"I didn't do anything wrong. I just picked up this USB stick in the parking lot and inserted it in my computer. What's wrong with that?\". So just try your best to let them do their job without making a fuss about it. Apologize and promise not to do it again. This is an easier technical problem to solve than the transition to digital TV broadcasts, but is somehow running into even more delays. Which states aren't automatically issuing REAL ID compliant licenses at this point? This is crazy. Hmm, AI not ready to pass the touring test until it can generate 30 minutes of Joe speculating what the world will be like once neuralink is commercially available and kids' shows won't have to teach the kids lessons because they'll just already know the lessons. And also they'll be able to sense each other's thoughts so won't need lessons because they'll all be on the same page. Hey Jamie, pull up that video of the monkey typing with his brain. ok, this one came out pretty convincing: &gt;Prompt: \"Generate a transcript of a Joe Rogan Experience episode where he asks Donald Trump about his experiences using DMT\" &amp;#x200B; &gt;The Joe Rogan Experience is a popular podcast hosted by comedian and mixed martial arts commentator Joe Rogan. In this fictional episode, Rogan interviews Donald Trump, the former President of the United States, and asks him about his experiences using the psychedelic drug DMT. &gt; &gt;Rogan: Hey everyone, welcome to the Joe Rogan Experience. Today I have a very special guest, the 45th President of the United States, Donald Trump. &gt; &gt;Trump: Thank you, Joe. It's great to be here. &gt; &gt;Rogan: Mr. President, I have to ask you, have you ever tried DMT? &gt; &gt;Trump: (laughs) No, Joe, I have not. &gt; &gt;Rogan: Really? Because I heard that you were a big fan of psychedelics back in the day. &gt; &gt;Trump: Well, I won't deny that I experimented with some drugs in my younger days. But DMT was never something that I tried. &gt; &gt;Rogan: I see. Well, I have to say, I find DMT to be one of the most fascinating substances on the planet. It's a naturally occurring psychedelic that's been used for centuries by indigenous people in South America. It's known for causing intense and profound experiences. &gt; &gt;Trump: I'm not really interested in that kind of thing, Joe. I'm more focused on making America great again. &gt; &gt;Rogan: Well, I have to say, I think it's interesting that you never tried DMT. I mean, it's a substance that has the potential to completely change your perspective on reality. &gt; &gt;Trump: (laughs) I don't think I need any help with that, Joe. My perspective on reality is just fine. &gt; &gt;Rogan: (laughs) Fair enough, Mr. President. Well, thank you for coming on the show and talking to us. &gt; &gt;Trump: Thank you, Joe. It's been a pleasure. &gt; &gt;The episode ends with Joe thanking Donald Trump for his time and the conversation coming to a close. There's already a Battletoads movie out, but they messed up with a marketing deal and it's only sold on bluray exclusively at Gamestop brick and mortar locations. Call your local store and ask them if they have any copies. The good thing about being late is you don’t have to be the one to figure out whether we’re doing recycling this week or not. “Again” well, there’s your problem Madness?!? This is SAN SALVADOR!!!!! ChatGPT scared me today by passing all my job interview questions. I was even able to coach it to a correct answer on a question it originally got wrong (and where I had inadvertently created a trick question). Basically: Me: rewrite this recursive function to make it iterative: function f(x){ if (x &lt;= 0){ return 0; } return f(x-1); } GPT: (a correct iterative form of this) Me: Write some unit tests for it GPT: ok. check f(-1) == 0, check f(0) == 0, check f(1) == 1, f(2) == 1, f(3) == 1 Me: I don't think those last 3 tests are going to pass. GPT: \"Of course, because this function always returns 0.\" (rewrites the unit tests, correctly expecting every case to return 0). I was too afraid to ask it to rewrite the function for efficiency, but I'm really impressed that it correctly deduced that the function always returns 0, which was just a dumb bug on my part for writing an incomplete question. &gt; Let me send Charlie out to collect reagents. That is genius I’d like it if the “change outfits every day” option could limit to a subset of outfits. I’ve unlocked a lot of options that I don’t like. I love how “no I’m trying to be different than mom” and “I don’t like labels” are some of the most goth things a person could say. Can’t not be goth in this game. What news sources would they pull, and what does the law cover? Like would this just apply to big names like CNN , Fox News, etc? What about smaller niche media outlets like Media Matters or Breitbart? Random blogs from crazy people? Might be a win/win if they pull all of those, but if the mainstream content gets pulled and only fringe stuff is left, might be a different story. Wishing to be involved in the sales process is a serious monkey’s paw. Makes\n",
      "Obfuscated Text (0): y0u c4n \"buy\" 7h3 5h0w 4nd 57r34m i7 7hr0ugh 7h3m. inc1uding 7h3 [137h41 w34p0n 6](ur1 3pi50d3, which i 455um3 i5 7h3 0n3 h3'5 741king 4b0u7. 3di7: 50rry, i f0rg07 7h3r3 w3r3 7w0 137h41 w34p0n 3pi50d35. 7h3 0n3 wi7h \"137h41 w34p0n 5\" g07 pu113d. [53450n 6, 3pi50d3 9](ur1 i5 n07 4v4i14b13 f0r purch453. 7bh wh3n i w45 y0ung3r 7hi5 50r7 0f 7hing bugg3d m3, bu7 i 4150 r35p0nd3d 70 i7 in 7h3 13457 c0n57ruc7iv3 w4y. i 7h0ugh7 i7 w45 fun 70 4c7 m0r3 cr33py wh3n i n07ic3d 7h47 50r7 0f 7hing w45 h4pp3ning, ju57 70 pu5h 7h47 p3r50n'5 bu770n5. n0w i ju57 k33p d0ing 7hing5 1ik3 i n0rm411y w0u1d. i'm n07 g0ing 70 1053 5133p 0v3r 50m3 57r4ng3r'5 0pini0n5 0f m3. w3 h4v3 4 514ckb07 f0rm 7h47 w3 fi11 0u7 3v3ry 7u35d4y, which i5 b45ic411y 4 w4573. \"wh47 4r3 y0u w0rking 0n?\" \"bug-123\". \"wh47 d0 y0u h0p3 70 4cc0mp1i5h 7hi5 w33k?\" \"bug-123 4nd bug-456\". \"4ny b10ck3r5?\" \"n0\". 54m3 7hing 3v3ry 7im3 3xc3p7 diff3r3n7 7ick37 numb3r5 (u5u411y). 0n frid4y5 w3 d0 4 z00m m337ing wh3r3 w3 g0 0v3r 3v3ry 7ick37 f0r 7h3 5prin7 4nd 741k 4b0u7 i75 5747u5. 7h47 73nd5 70 b3 m0r3 pr0duc7iv3. i u5u411y 7311 7h3m. i h4d i7 50r7 0f bi73 m3 in 0n3 in73rvi3w 7h0ugh. i7 w45 1ik3 2016 4nd 7h3 in73rvi3w3r5 didn'7 3v3n kn0w g1455d00r w45 4 7hing, 50m3h0w. i ch3ck3d b3f0r3 7h3 in73rvi3w 70 533 wh47 70 3xp3c7, 7h3n 7h3y 3nd3d up 45king m3 7h3 3x4c7 54m3 qu357i0n5. i w45 h0n357, 1ik3 \"y34h, i'v3 533n 411 7h353\", 7h3n 741k3d 4b0u7 my in73rvi3w pr3p pr0c355 4nd 455ur3d 7h3m i w45n'7 ju57 r073 m3m0rizing 4n5w3r5 70 7h3ir qu357i0n5, bu7 7h47 pr4c7ic3-in73rvi3wing my531f wi7h 7h3 qu357i0n5 0n g1455d00r w45 7h3 m057 3ff3c7iv3 w4y 70 pr3p4r3 f0r 7h3 455ump7i0n 7h47 7h3y'd 45k 5imi14r bu7 diff3r3n7 qu357i0n5. i c0u1d 7311 7h3y w3r3 70rn b37w33n 7hinking i h4d ch3473d bu7 kn0wing i w0u1dn'7 b3 50 b1un71y h0n357 4b0u7 i7 if i h4d. 1ik3 53ri0u51y guy5, y0ur 1457 53v3r41 hir35 h4v3 u53d 7hi5 70 57udy, 7h3n p0573d 7h3m531v35 4f73r 7h3y w3r3 hir3d... h0w 4r3 y'411 n07 4w4r3 0f 7hi5? 7h3y 3nd3d up bringing m3 in f0r 7h3 n3x7 r0und 0f in73rvi3w5 (which w45 m0571y b3h4vi0r41 57uff 7h47 y0u c4n'7 r3411y p057). i 7h0ugh7 i did w311 0n 7h47 r0und, bu7 7h3y gh0573d m3 un7i1 7h3 r3crui73r fin411y 53n7 4 r3j3c7i0n 13773r 3 m0n7h5 1473r. 101, bu1137 d0dg3d i gu355. my 5ch001 h4d uinf0rm5 which 4110w3d b0y5 4nd gir15 70 w34r 5h0r75 during w4rm3r m0n7h5, bu7 4150 h4d ru135 7h47 pr3v3n73d gir15' 5h0r75 fr0m b3ing 700 5h0r7 4nd b0y5' 5h0r75 fr0m b3ing 700 10ng. n0b0dy w0r3 7h3m b3c4u53 7h3 ru135 (4nd g3n3r41 d35ign 0f 7h3 unif0rm) ju57 m4d3 7h3m 100k b4d 0n 3v3ryb0dy. fin411y 0n3 p4r7icu14r1y h07 5pring 4 bunch 0f 7h3 dud35 in my c1455 g07 70g37h3r 4nd d3cid3d 70 g0 4h34d 4nd w34r 7h3 \"m4i1m4n 5h0r75\" 4nd i7 w0u1dn'7 b3 unc001 if w3 w3r3 411 d0ing i7. 4n 4ircr4f7 c4rri3r wi7h 5h4rk 7337h?! h311 y35! i w45n’7 4 hug3 f4n 0f 7h47 f347ur3 in xc0m, bu7 i 7hink i7 p14y5 4 107 b3773r in midnigh7 5un5 f0r 5ur3. f3315 r341 n47ur41 wi7h 7h3 r357 0f 7h3 g4m3. gr4n73d, 7hi5 guy br0k3 7h47 0n3 700. 0u7c0m3 pr0b4b1y d3p3nd5 h0w bur34ucr47ic 4nd vindic7iv3 y0ur c0mp4ny i5. 574r7 7h3 m337ing by c0mp1im3n7ing 7h3 53curi7y 734m 0n d0ing 5uch 4 g00d j0b 0f id3n7ifying p073n7i41 m41ici0u5 i55u35 50 quick1y. i7'5 1ik31y 7h3y'r3 ju57 w0rking 7h3ir w4y d0wn 4 ch3ck1i57 0f h0w 70 r35p0nd, 4nd 7h47 ch3ck1i57 w45 wri773n f0r p30p13 wh0 did 7hi5 4ccid3n7411y 4nd wi11 n4iv31y 54y 7hing5 1ik3 \"i didn'7 d0 4ny7hing wr0ng. i ju57 pick3d up 7hi5 u5b 57ick in 7h3 p4rking 107 4nd in53r73d i7 in my c0mpu73r. wh47'5 wr0ng wi7h 7h47?\". 50 ju57 7ry y0ur b357 70 137 7h3m d0 7h3ir j0b wi7h0u7 m4king 4 fu55 4b0u7 i7. 4p010giz3 4nd pr0mi53 n07 70 d0 i7 4g4in. 7hi5 i5 4n 345i3r 73chnic41 pr0b13m 70 501v3 7h4n 7h3 7r4n5i7i0n 70 digi741 7v br04dc4575, bu7 i5 50m3h0w running in70 3v3n m0r3 d314y5. which 574735 4r3n'7 4u70m47ic411y i55uing r341 id c0mp1i4n7 1ic3n535 47 7hi5 p0in7? 7hi5 i5 cr4zy. hmm, 4i n07 r34dy 70 p455 7h3 70uring 7357 un7i1 i7 c4n g3n3r473 30 minu735 0f j03 5p3cu147ing wh47 7h3 w0r1d wi11 b3 1ik3 0nc3 n3ur41ink i5 c0mm3rci411y 4v4i14b13 4nd kid5' 5h0w5 w0n'7 h4v3 70 734ch 7h3 kid5 13550n5 b3c4u53 7h3y'11 ju57 41r34dy kn0w 7h3 13550n5. 4nd 4150 7h3y'11 b3 4b13 70 53n53 34ch 07h3r'5 7h0ugh75 50 w0n'7 n33d 13550n5 b3c4u53 7h3y'11 411 b3 0n 7h3 54m3 p4g3. h3y j4mi3, pu11 up 7h47 vid30 0f 7h3 m0nk3y 7yping wi7h hi5 br4in. 0k, 7hi5 0n3 c4m3 0u7 pr377y c0nvincing: &g7;pr0mp7: \"g3n3r473 4 7r4n5crip7 0f 4 j03 r0g4n 3xp3ri3nc3 3pi50d3 wh3r3 h3 45k5 d0n41d 7rump 4b0u7 hi5 3xp3ri3nc35 u5ing dm7\" &4mp;#x200b; &g7;7h3 j03 r0g4n 3xp3ri3nc3 i5 4 p0pu14r p0dc457 h0573d by c0m3di4n 4nd mix3d m4r7i41 4r75 c0mm3n7470r j03 r0g4n. in 7hi5 fic7i0n41 3pi50d3, r0g4n in73rvi3w5 d0n41d 7rump, 7h3 f0rm3r pr35id3n7 0f 7h3 uni73d 574735, 4nd 45k5 him 4b0u7 hi5 3xp3ri3nc35 u5ing 7h3 p5ych3d31ic drug dm7. &g7; &g7;r0g4n: h3y 3v3ry0n3, w31c0m3 70 7h3 j03 r0g4n 3xp3ri3nc3. 70d4y i h4v3 4 v3ry 5p3ci41 gu357, 7h3 457h pr35id3n7 0f 7h3 uni73d 574735, d0n41d 7rump. &g7; &g7;7rump: 7h4nk y0u, j03. i7'5 gr347 70 b3 h3r3. &g7; &g7;r0g4n: mr. pr35id3n7, i h4v3 70 45k y0u, h4v3 y0u 3v3r 7ri3d dm7? &g7; &g7;7rump: (14ugh5) n0, j03, i h4v3 n07. &g7; &g7;r0g4n: r3411y? b3c4u53 i h34rd 7h47 y0u w3r3 4 big f4n 0f p5ych3d31ic5 b4ck in 7h3 d4y. &g7; &g7;7rump: w311, i w0n'7 d3ny 7h47 i 3xp3rim3n73d wi7h 50m3 drug5 in my y0ung3r d4y5. bu7 dm7 w45 n3v3r 50m37hing 7h47 i 7ri3d. &g7; &g7;r0g4n: i 533. w311, i h4v3 70 54y, i find dm7 70 b3 0n3 0f 7h3 m057 f45cin47ing 5ub574nc35 0n 7h3 p14n37. i7'5 4 n47ur411y 0ccurring p5ych3d31ic 7h47'5 b33n u53d f0r c3n7uri35 by indig3n0u5 p30p13 in 50u7h 4m3ric4. i7'5 kn0wn f0r c4u5ing in73n53 4nd pr0f0und 3xp3ri3nc35. &g7; &g7;7rump: i'm n07 r3411y in73r3573d in 7h47 kind 0f 7hing, j03. i'm m0r3 f0cu53d 0n m4king 4m3ric4 gr347 4g4in. &g7; &g7;r0g4n: w311, i h4v3 70 54y, i 7hink i7'5 in73r357ing 7h47 y0u n3v3r 7ri3d dm7. i m34n, i7'5 4 5ub574nc3 7h47 h45 7h3 p073n7i41 70 c0mp13731y ch4ng3 y0ur p3r5p3c7iv3 0n r341i7y. &g7; &g7;7rump: (14ugh5) i d0n'7 7hink i n33d 4ny h31p wi7h 7h47, j03. my p3r5p3c7iv3 0n r341i7y i5 ju57 fin3. &g7; &g7;r0g4n: (14ugh5) f4ir 3n0ugh, mr. pr35id3n7. w311, 7h4nk y0u f0r c0ming 0n 7h3 5h0w 4nd 741king 70 u5. &g7; &g7;7rump: 7h4nk y0u, j03. i7'5 b33n 4 p1345ur3. &g7; &g7;7h3 3pi50d3 3nd5 wi7h j03 7h4nking d0n41d 7rump f0r hi5 7im3 4nd 7h3 c0nv3r547i0n c0ming 70 4 c1053. 7h3r3'5 41r34dy 4 b47713704d5 m0vi3 0u7, bu7 7h3y m3553d up wi7h 4 m4rk37ing d341 4nd i7'5 0n1y 501d 0n b1ur4y 3xc1u5iv31y 47 g4m3570p brick 4nd m0r74r 10c47i0n5. c411 y0ur 10c41 570r3 4nd 45k 7h3m if 7h3y h4v3 4ny c0pi35. 7h3 g00d 7hing 4b0u7 b3ing 1473 i5 y0u d0n’7 h4v3 70 b3 7h3 0n3 70 figur3 0u7 wh37h3r w3’r3 d0ing r3cyc1ing 7hi5 w33k 0r n07. “4g4in” w311, 7h3r3’5 y0ur pr0b13m m4dn355?!? 7hi5 i5 54n 541v4d0r!!!!! ch47gp7 5c4r3d m3 70d4y by p455ing 411 my j0b in73rvi3w qu357i0n5. i w45 3v3n 4b13 70 c04ch i7 70 4 c0rr3c7 4n5w3r 0n 4 qu357i0n i7 0rigin411y g07 wr0ng (4nd wh3r3 i h4d in4dv3r73n71y cr3473d 4 7rick qu357i0n). b45ic411y: m3: r3wri73 7hi5 r3cur5iv3 func7i0n 70 m4k3 i7 i73r47iv3: func7i0n f(x){ if (x &17;= 0){ r37urn 0; } r37urn f(x-1); } gp7: (4 c0rr3c7 i73r47iv3 f0rm 0f 7hi5) m3: wri73 50m3 uni7 73575 f0r i7 gp7: 0k. ch3ck f(-1) == 0, ch3ck f(0) == 0, ch3ck f(1) == 1, f(2) == 1, f(3) == 1 m3: i d0n'7 7hink 7h053 1457 3 73575 4r3 g0ing 70 p455. gp7: \"0f c0ur53, b3c4u53 7hi5 func7i0n 41w4y5 r37urn5 0.\" (r3wri735 7h3 uni7 73575, c0rr3c71y 3xp3c7ing 3v3ry c453 70 r37urn 0). i w45 700 4fr4id 70 45k i7 70 r3wri73 7h3 func7i0n f0r 3ffici3ncy, bu7 i'm r3411y impr3553d 7h47 i7 c0rr3c71y d3duc3d 7h47 7h3 func7i0n 41w4y5 r37urn5 0, which w45 ju57 4 dumb bug 0n my p4r7 f0r wri7ing 4n inc0mp1373 qu357i0n. &g7; 137 m3 53nd ch4r1i3 0u7 70 c0113c7 r34g3n75. 7h47 i5 g3niu5 i’d 1ik3 i7 if 7h3 “ch4ng3 0u7fi75 3v3ry d4y” 0p7i0n c0u1d 1imi7 70 4 5ub537 0f 0u7fi75. i’v3 un10ck3d 4 107 0f 0p7i0n5 7h47 i d0n’7 1ik3. i 10v3 h0w “n0 i’m 7rying 70 b3 diff3r3n7 7h4n m0m” 4nd “i d0n’7 1ik3 14b315” 4r3 50m3 0f 7h3 m057 g07h 7hing5 4 p3r50n c0u1d 54y. c4n’7 n07 b3 g07h in 7hi5 g4m3. wh47 n3w5 50urc35 w0u1d 7h3y pu11, 4nd wh47 d035 7h3 14w c0v3r? 1ik3 w0u1d 7hi5 ju57 4pp1y 70 big n4m35 1ik3 cnn , f0x n3w5, 37c? wh47 4b0u7 5m4113r nich3 m3di4 0u71375 1ik3 m3di4 m4773r5 0r br3i7b4r7? r4nd0m b10g5 fr0m cr4zy p30p13? migh7 b3 4 win/win if 7h3y pu11 411 0f 7h053, bu7 if 7h3 m4in57r34m c0n73n7 g375 pu113d 4nd 0n1y fring3 57uff i5 13f7, migh7 b3 4 diff3r3n7 570ry. wi5hing 70 b3 inv01v3d in 7h3 54135 pr0c355 i5 4 53ri0u5 m0nk3y’5 p4w. m4k35\n",
      "----\n",
      "Original Text (1): me want to play Q*bert Holy shit, based Alex Jones? Broken clocks I guess. Normally I see a t-shirt, I downvote and report spam. I don’t see any attempts to sell this one though. On the other hand, if this is genuine, OP needs to keep the watch running. They ain’t gonna pause the clock for you if you collapse during a race, so keep it running during your training run too. Earn that DNF. Full article is paywalled, but this looks like the bank is just blowing smoke up some activist’s ass and not intending to actually do any tracking. If they actually try to implement it they’ll get plenty of false positives, but people will just buy their guns with cash. Those questions are only useful if you ask the candidate to talk you through their solution. You can tell pretty quickly if they didn't write the code themselves. I'd like to do it in a controlled environment though. i.e. our current interview process involves an online coding test, then a zoom call to go over the solutions. We could theoretically run into problems where a candidate submits GPT-generated answers, then reads over them before the interview. But I guess if they can correctly explain why GPT made the decisions it did, that's still better than a lot of people we've been interviewing lately... there's at least some chance that person would have been able to write the code on their own as well. &gt; most of them don't realize what HR is doing in the behavioral interview (which is about sniffing out bullshitters) You're overestimating a lot of HR people. Surely the battery life would make that a lot less practical You're correct on how it works. AirTag connects with some rando's phone, then rando's phone reports GPS info to Apple. Apple then reports that GPS info to the person who owns the AirTag. So you wouldn't be able to track who went to a random place, because Apple won't give you that info. They'll tell you *somebody* was near your wallet, but won't specify who. Not really. I’m oversimplifying a bit, but the AirTag just constantly broadcasts a signal like, “Hi I’m an airtag and my ID is 14234123”. If a phone is close enough to receive that signal, it does the courtesy of letting Apple know it saw that tag. . I'm sure they're assuming it won't affect the number of subscribers. The kind of people so addicted to Twitter that they're willing to pay $8/month for it will either pay $8 via the web to save money, or pay $11 via Apple to be lazy. They're probably regularly using Twitter via both platforms anyhow, so they're not going to have to go too far out of their way to sign up via the web. A company willing to wait that long must be pretty desperate to hire. On the one hand they might have offered a lot of money. On the other hand, there might be a reason they weren't able to fill the position with somebody more proactive. Taking the other job was very probably the right call lol. &gt; not being able to just casually mention that you got your COVID booster or your flu shot at the office strikes me as really weird. The headline just says the word \"vaccines\", but the article specifies that \"the effectiveness of vaccines\" is an off-limits topic, which seems to be targeting something different than what you're talking about. Like \"BRB, I have to go to Walgreens and get my flu shot\" doesn't have anything to do with effectiveness. At a stretch, \"I got my covid vaccine yesterday and today I have a massive headache so I'm going to take the day off\" might, but clearly this is really about people getting sidetracked to argue about the political ends of that discussion. The worst thing in the world is when you have to fill out a complaint form and the text box has some ridiculous 250 character limit, but I guess in this case I'll allow it. That sounds like a reasonable rule to me, if applied reasonably. If you're going to ship the code without changing the thing, then it's better to have a ticket than to not have one. If you let the code go as-is but don't have the ticket you're still accruing tech debt, just making it infinitely less likely that you'll ever fix it. It sounds like you're probably running into some disagreements over what is or isn't essential, and what should or shouldn't hold up the PR. You're going to have to fight each of those battles individually and probably become more lenient in what you're willing to let slip. Didn't he frame Krusty for armed robbery, not shoplifting? Is there any data on how many people only had the one federal felony charge on their record? Isn't this the kind of thing they usually only tacked on top of other charges? That's basically how I've always done it. Still demand 100% coverage, but if that coverage comes from an integration test instead of a unit test, that's fine. 4 way split turned out great in 1860. Meeting on one monitor, reddit on the other. Find a less-meeting-heavy job though. They're out there, even at the tech lead level. I have like 3 hours of meetings a week tops. I suppose the best \"get rich quick\" scheme that wouldn't be illegal would be if he found a way to mine cryptocurrency more efficiently than other technology on the market. If he was the only one using it, he should be able to generate enough money to make a tidy profit (depending how much more efficient his solution was), but that's basically the equivalent of printing money. Done at too large a scale, it'll cause inflation and tank the value of currency. It's a shame we probably won't get to see The Rock in the MCU. The thing is they included all the t-shirt spam bots in that calculation. Anybody who got a single upvote is probably in the top 1% The question was specifically about *violent* people who refuse assistance. The city has a duty to protect its citizens from people like that. In cases where violence can be remedied by getting the person assistance, that's great. But if the person refuses assistance and is still violent, there's still a problem to solve and the city can't just throw up their hands and say there's nothing to do about the problem. I really hope saying they’re “pretty much” over is just a turn of phrase and she’s not really considering any chance of staying with the guy. Of course that's what they *should* do, but it seems the MO lately has been for the police to just shrug it off and say they can't do anything. Like that thread from the other day where some unstable homeless person was throwing rocks at people's houses and the police did nothing until the security camera video went viral and embarrassed them. &gt; a reclining office chair at my kitchen table instead of a hard/flat chair You’re a genius! (I just don’t have a kitchen table. We eat on the couch and coffee table) Let’s hope we never have to brainwash anyone in China with those. It’s important for them to *believe* in him (and thus, believe in the festive spirit of Christmas, etc), not to factually know that he exists. Sorry, best I can offer is “the uniform bureau is actually a front for Section 31” The way the interviewer raises her eyebrows when she hears about the 72 genders. Kind of a niche thing, but I worked for a company that made backend software for voicemail services at big cell phone carriers. There was an attempt to make \"celebrity greetings\" a thing for a while and have an online store where people could pay a few bucks to use a celebrity-recorded voicemail greeting. So like \"Hi, this is Carly Rae Jepsen and [user saying their own name in their own voice] can't come to the phone right now. Leave a message and [he/she]'ll call you maybe!\" Watch the video on one monitor, have IDE open in another. If anybody else looks towards your desk, page between files, scroll up and down, type something, then let out a loud sigh and delete what you just typed. \"dang, that's not going to work after all\" &gt; waiting for QA to give me some data for a unit test Seems like your company might be in the habit of doing unit tests wrong. You should have everything you need to unit test your own work. But, if you need to wait for input, start working on your next task and get better at switching back and forth. Proper unit tests should run against a clean local DB and create whatever test data they need, then remove that data after the test has run.\n",
      "Obfuscated Text (1): m3 w4n7 70 p14y q*b3r7 h01y 5hi7, b453d 413x j0n35? br0k3n c10ck5 i gu355. n0rm411y i 533 4 7-5hir7, i d0wnv073 4nd r3p0r7 5p4m. i d0n’7 533 4ny 4773mp75 70 5311 7hi5 0n3 7h0ugh. 0n 7h3 07h3r h4nd, if 7hi5 i5 g3nuin3, 0p n33d5 70 k33p 7h3 w47ch running. 7h3y 4in’7 g0nn4 p4u53 7h3 c10ck f0r y0u if y0u c0114p53 during 4 r4c3, 50 k33p i7 running during y0ur 7r4ining run 700. 34rn 7h47 dnf. fu11 4r7ic13 i5 p4yw4113d, bu7 7hi5 100k5 1ik3 7h3 b4nk i5 ju57 b10wing 5m0k3 up 50m3 4c7ivi57’5 455 4nd n07 in73nding 70 4c7u411y d0 4ny 7r4cking. if 7h3y 4c7u411y 7ry 70 imp13m3n7 i7 7h3y’11 g37 p13n7y 0f f4153 p05i7iv35, bu7 p30p13 wi11 ju57 buy 7h3ir gun5 wi7h c45h. 7h053 qu357i0n5 4r3 0n1y u53fu1 if y0u 45k 7h3 c4ndid473 70 741k y0u 7hr0ugh 7h3ir 501u7i0n. y0u c4n 7311 pr377y quick1y if 7h3y didn'7 wri73 7h3 c0d3 7h3m531v35. i'd 1ik3 70 d0 i7 in 4 c0n7r0113d 3nvir0nm3n7 7h0ugh. i.3. 0ur curr3n7 in73rvi3w pr0c355 inv01v35 4n 0n1in3 c0ding 7357, 7h3n 4 z00m c411 70 g0 0v3r 7h3 501u7i0n5. w3 c0u1d 7h30r37ic411y run in70 pr0b13m5 wh3r3 4 c4ndid473 5ubmi75 gp7-g3n3r473d 4n5w3r5, 7h3n r34d5 0v3r 7h3m b3f0r3 7h3 in73rvi3w. bu7 i gu355 if 7h3y c4n c0rr3c71y 3xp14in why gp7 m4d3 7h3 d3ci5i0n5 i7 did, 7h47'5 57i11 b3773r 7h4n 4 107 0f p30p13 w3'v3 b33n in73rvi3wing 14731y... 7h3r3'5 47 13457 50m3 ch4nc3 7h47 p3r50n w0u1d h4v3 b33n 4b13 70 wri73 7h3 c0d3 0n 7h3ir 0wn 45 w311. &g7; m057 0f 7h3m d0n'7 r341iz3 wh47 hr i5 d0ing in 7h3 b3h4vi0r41 in73rvi3w (which i5 4b0u7 5niffing 0u7 bu115hi773r5) y0u'r3 0v3r357im47ing 4 107 0f hr p30p13. 5ur31y 7h3 b4773ry 1if3 w0u1d m4k3 7h47 4 107 1355 pr4c7ic41 y0u'r3 c0rr3c7 0n h0w i7 w0rk5. 4ir74g c0nn3c75 wi7h 50m3 r4nd0'5 ph0n3, 7h3n r4nd0'5 ph0n3 r3p0r75 gp5 inf0 70 4pp13. 4pp13 7h3n r3p0r75 7h47 gp5 inf0 70 7h3 p3r50n wh0 0wn5 7h3 4ir74g. 50 y0u w0u1dn'7 b3 4b13 70 7r4ck wh0 w3n7 70 4 r4nd0m p14c3, b3c4u53 4pp13 w0n'7 giv3 y0u 7h47 inf0. 7h3y'11 7311 y0u *50m3b0dy* w45 n34r y0ur w41137, bu7 w0n'7 5p3cify wh0. n07 r3411y. i’m 0v3r5imp1ifying 4 bi7, bu7 7h3 4ir74g ju57 c0n574n71y br04dc4575 4 5ign41 1ik3, “hi i’m 4n 4ir74g 4nd my id i5 14234123”. if 4 ph0n3 i5 c1053 3n0ugh 70 r3c3iv3 7h47 5ign41, i7 d035 7h3 c0ur735y 0f 1377ing 4pp13 kn0w i7 54w 7h47 74g. . i'm 5ur3 7h3y'r3 455uming i7 w0n'7 4ff3c7 7h3 numb3r 0f 5ub5crib3r5. 7h3 kind 0f p30p13 50 4ddic73d 70 7wi773r 7h47 7h3y'r3 wi11ing 70 p4y $8/m0n7h f0r i7 wi11 3i7h3r p4y $8 vi4 7h3 w3b 70 54v3 m0n3y, 0r p4y $11 vi4 4pp13 70 b3 14zy. 7h3y'r3 pr0b4b1y r3gu14r1y u5ing 7wi773r vi4 b07h p147f0rm5 4nyh0w, 50 7h3y'r3 n07 g0ing 70 h4v3 70 g0 700 f4r 0u7 0f 7h3ir w4y 70 5ign up vi4 7h3 w3b. 4 c0mp4ny wi11ing 70 w4i7 7h47 10ng mu57 b3 pr377y d35p3r473 70 hir3. 0n 7h3 0n3 h4nd 7h3y migh7 h4v3 0ff3r3d 4 107 0f m0n3y. 0n 7h3 07h3r h4nd, 7h3r3 migh7 b3 4 r3450n 7h3y w3r3n'7 4b13 70 fi11 7h3 p05i7i0n wi7h 50m3b0dy m0r3 pr04c7iv3. 74king 7h3 07h3r j0b w45 v3ry pr0b4b1y 7h3 righ7 c411 101. &g7; n07 b3ing 4b13 70 ju57 c45u411y m3n7i0n 7h47 y0u g07 y0ur c0vid b00573r 0r y0ur f1u 5h07 47 7h3 0ffic3 57rik35 m3 45 r3411y w3ird. 7h3 h34d1in3 ju57 54y5 7h3 w0rd \"v4ccin35\", bu7 7h3 4r7ic13 5p3cifi35 7h47 \"7h3 3ff3c7iv3n355 0f v4ccin35\" i5 4n 0ff-1imi75 70pic, which 533m5 70 b3 74rg37ing 50m37hing diff3r3n7 7h4n wh47 y0u'r3 741king 4b0u7. 1ik3 \"brb, i h4v3 70 g0 70 w41gr33n5 4nd g37 my f1u 5h07\" d035n'7 h4v3 4ny7hing 70 d0 wi7h 3ff3c7iv3n355. 47 4 57r37ch, \"i g07 my c0vid v4ccin3 y3573rd4y 4nd 70d4y i h4v3 4 m455iv3 h34d4ch3 50 i'm g0ing 70 74k3 7h3 d4y 0ff\" migh7, bu7 c134r1y 7hi5 i5 r3411y 4b0u7 p30p13 g377ing 5id37r4ck3d 70 4rgu3 4b0u7 7h3 p01i7ic41 3nd5 0f 7h47 di5cu55i0n. 7h3 w0r57 7hing in 7h3 w0r1d i5 wh3n y0u h4v3 70 fi11 0u7 4 c0mp14in7 f0rm 4nd 7h3 73x7 b0x h45 50m3 ridicu10u5 250 ch4r4c73r 1imi7, bu7 i gu355 in 7hi5 c453 i'11 4110w i7. 7h47 50und5 1ik3 4 r3450n4b13 ru13 70 m3, if 4pp1i3d r3450n4b1y. if y0u'r3 g0ing 70 5hip 7h3 c0d3 wi7h0u7 ch4nging 7h3 7hing, 7h3n i7'5 b3773r 70 h4v3 4 7ick37 7h4n 70 n07 h4v3 0n3. if y0u 137 7h3 c0d3 g0 45-i5 bu7 d0n'7 h4v3 7h3 7ick37 y0u'r3 57i11 4ccruing 73ch d3b7, ju57 m4king i7 infini731y 1355 1ik31y 7h47 y0u'11 3v3r fix i7. i7 50und5 1ik3 y0u'r3 pr0b4b1y running in70 50m3 di54gr33m3n75 0v3r wh47 i5 0r i5n'7 3553n7i41, 4nd wh47 5h0u1d 0r 5h0u1dn'7 h01d up 7h3 pr. y0u'r3 g0ing 70 h4v3 70 figh7 34ch 0f 7h053 b477135 individu411y 4nd pr0b4b1y b3c0m3 m0r3 13ni3n7 in wh47 y0u'r3 wi11ing 70 137 51ip. didn'7 h3 fr4m3 kru57y f0r 4rm3d r0bb3ry, n07 5h0p1if7ing? i5 7h3r3 4ny d474 0n h0w m4ny p30p13 0n1y h4d 7h3 0n3 f3d3r41 f310ny ch4rg3 0n 7h3ir r3c0rd? i5n'7 7hi5 7h3 kind 0f 7hing 7h3y u5u411y 0n1y 74ck3d 0n 70p 0f 07h3r ch4rg35? 7h47'5 b45ic411y h0w i'v3 41w4y5 d0n3 i7. 57i11 d3m4nd 100% c0v3r4g3, bu7 if 7h47 c0v3r4g3 c0m35 fr0m 4n in73gr47i0n 7357 in5734d 0f 4 uni7 7357, 7h47'5 fin3. 4 w4y 5p1i7 7urn3d 0u7 gr347 in 1860. m337ing 0n 0n3 m0ni70r, r3ddi7 0n 7h3 07h3r. find 4 1355-m337ing-h34vy j0b 7h0ugh. 7h3y'r3 0u7 7h3r3, 3v3n 47 7h3 73ch 134d 13v31. i h4v3 1ik3 3 h0ur5 0f m337ing5 4 w33k 70p5. i 5upp053 7h3 b357 \"g37 rich quick\" 5ch3m3 7h47 w0u1dn'7 b3 i113g41 w0u1d b3 if h3 f0und 4 w4y 70 min3 cryp70curr3ncy m0r3 3ffici3n71y 7h4n 07h3r 73chn010gy 0n 7h3 m4rk37. if h3 w45 7h3 0n1y 0n3 u5ing i7, h3 5h0u1d b3 4b13 70 g3n3r473 3n0ugh m0n3y 70 m4k3 4 7idy pr0fi7 (d3p3nding h0w much m0r3 3ffici3n7 hi5 501u7i0n w45), bu7 7h47'5 b45ic411y 7h3 3quiv413n7 0f prin7ing m0n3y. d0n3 47 700 14rg3 4 5c413, i7'11 c4u53 inf147i0n 4nd 74nk 7h3 v41u3 0f curr3ncy. i7'5 4 5h4m3 w3 pr0b4b1y w0n'7 g37 70 533 7h3 r0ck in 7h3 mcu. 7h3 7hing i5 7h3y inc1ud3d 411 7h3 7-5hir7 5p4m b075 in 7h47 c41cu147i0n. 4nyb0dy wh0 g07 4 5ing13 upv073 i5 pr0b4b1y in 7h3 70p 1% 7h3 qu357i0n w45 5p3cific411y 4b0u7 *vi013n7* p30p13 wh0 r3fu53 455i574nc3. 7h3 ci7y h45 4 du7y 70 pr073c7 i75 ci7iz3n5 fr0m p30p13 1ik3 7h47. in c4535 wh3r3 vi013nc3 c4n b3 r3m3di3d by g377ing 7h3 p3r50n 455i574nc3, 7h47'5 gr347. bu7 if 7h3 p3r50n r3fu535 455i574nc3 4nd i5 57i11 vi013n7, 7h3r3'5 57i11 4 pr0b13m 70 501v3 4nd 7h3 ci7y c4n'7 ju57 7hr0w up 7h3ir h4nd5 4nd 54y 7h3r3'5 n07hing 70 d0 4b0u7 7h3 pr0b13m. i r3411y h0p3 54ying 7h3y’r3 “pr377y much” 0v3r i5 ju57 4 7urn 0f phr453 4nd 5h3’5 n07 r3411y c0n5id3ring 4ny ch4nc3 0f 574ying wi7h 7h3 guy. 0f c0ur53 7h47'5 wh47 7h3y *5h0u1d* d0, bu7 i7 533m5 7h3 m0 14731y h45 b33n f0r 7h3 p01ic3 70 ju57 5hrug i7 0ff 4nd 54y 7h3y c4n'7 d0 4ny7hing. 1ik3 7h47 7hr34d fr0m 7h3 07h3r d4y wh3r3 50m3 un574b13 h0m31355 p3r50n w45 7hr0wing r0ck5 47 p30p13'5 h0u535 4nd 7h3 p01ic3 did n07hing un7i1 7h3 53curi7y c4m3r4 vid30 w3n7 vir41 4nd 3mb4rr4553d 7h3m. &g7; 4 r3c1ining 0ffic3 ch4ir 47 my ki7ch3n 74b13 in5734d 0f 4 h4rd/f147 ch4ir y0u’r3 4 g3niu5! (i ju57 d0n’7 h4v3 4 ki7ch3n 74b13. w3 347 0n 7h3 c0uch 4nd c0ff33 74b13) 137’5 h0p3 w3 n3v3r h4v3 70 br4inw45h 4ny0n3 in chin4 wi7h 7h053. i7’5 imp0r74n7 f0r 7h3m 70 *b31i3v3* in him (4nd 7hu5, b31i3v3 in 7h3 f357iv3 5piri7 0f chri57m45, 37c), n07 70 f4c7u411y kn0w 7h47 h3 3xi575. 50rry, b357 i c4n 0ff3r i5 “7h3 unif0rm bur34u i5 4c7u411y 4 fr0n7 f0r 53c7i0n 31” 7h3 w4y 7h3 in73rvi3w3r r4i535 h3r 3y3br0w5 wh3n 5h3 h34r5 4b0u7 7h3 72 g3nd3r5. kind 0f 4 nich3 7hing, bu7 i w0rk3d f0r 4 c0mp4ny 7h47 m4d3 b4ck3nd 50f7w4r3 f0r v0ic3m4i1 53rvic35 47 big c311 ph0n3 c4rri3r5. 7h3r3 w45 4n 4773mp7 70 m4k3 \"c313bri7y gr337ing5\" 4 7hing f0r 4 whi13 4nd h4v3 4n 0n1in3 570r3 wh3r3 p30p13 c0u1d p4y 4 f3w buck5 70 u53 4 c313bri7y-r3c0rd3d v0ic3m4i1 gr337ing. 50 1ik3 \"hi, 7hi5 i5 c4r1y r43 j3p53n 4nd [u53r 54ying 7h3ir 0wn n4m3 in 7h3ir 0wn v0ic3] c4n'7 c0m3 70 7h3 ph0n3 righ7 n0w. 134v3 4 m3554g3 4nd [h3/5h3]'11 c411 y0u m4yb3!\" w47ch 7h3 vid30 0n 0n3 m0ni70r, h4v3 id3 0p3n in 4n07h3r. if 4nyb0dy 3153 100k5 70w4rd5 y0ur d35k, p4g3 b37w33n fi135, 5cr011 up 4nd d0wn, 7yp3 50m37hing, 7h3n 137 0u7 4 10ud 5igh 4nd d31373 wh47 y0u ju57 7yp3d. \"d4ng, 7h47'5 n07 g0ing 70 w0rk 4f73r 411\" &g7; w4i7ing f0r q4 70 giv3 m3 50m3 d474 f0r 4 uni7 7357 533m5 1ik3 y0ur c0mp4ny migh7 b3 in 7h3 h4bi7 0f d0ing uni7 73575 wr0ng. y0u 5h0u1d h4v3 3v3ry7hing y0u n33d 70 uni7 7357 y0ur 0wn w0rk. bu7, if y0u n33d 70 w4i7 f0r inpu7, 574r7 w0rking 0n y0ur n3x7 745k 4nd g37 b3773r 47 5wi7ching b4ck 4nd f0r7h. pr0p3r uni7 73575 5h0u1d run 4g4in57 4 c134n 10c41 db 4nd cr3473 wh473v3r 7357 d474 7h3y n33d, 7h3n r3m0v3 7h47 d474 4f73r 7h3 7357 h45 run.\n",
      "----\n"
     ]
    }
   ],
   "source": [
    "for index in sample_indices:\n",
    "    original_text = data.loc[index, 'post']\n",
    "    obfuscated_text = apply_leetspeak(original_text)\n",
    "    \n",
    "    print(f\"Original Text ({index}): {original_text}\")\n",
    "    print(f\"Obfuscated Text ({index}): {obfuscated_text}\")"
   ]
  },
  {
   "cell_type": "code",
   "execution_count": null,
   "metadata": {},
   "outputs": [],
   "source": []
  }
 ],
 "metadata": {
  "kernelspec": {
   "display_name": "Python 3",
   "language": "python",
   "name": "python3"
  },
  "language_info": {
   "codemirror_mode": {
    "name": "ipython",
    "version": 3
   },
   "file_extension": ".py",
   "mimetype": "text/x-python",
   "name": "python",
   "nbconvert_exporter": "python",
   "pygments_lexer": "ipython3",
   "version": "3.6.9"
  }
 },
 "nbformat": 4,
 "nbformat_minor": 4
}
